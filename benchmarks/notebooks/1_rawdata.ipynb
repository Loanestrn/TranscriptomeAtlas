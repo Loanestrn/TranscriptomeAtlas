{
 "cells": [
  {
   "cell_type": "code",
   "execution_count": null,
   "id": "e4c2dfc2",
   "metadata": {},
   "outputs": [
    {
     "name": "stderr",
     "output_type": "stream",
     "text": [
      "/tmp/ipykernel_802654/2145738865.py:8: DtypeWarning: Columns (7) have mixed types. Specify dtype option on import or set low_memory=False.\n",
      "  df = pd.read_csv(chemin_fichier, delimiter=';')\n",
      "/tmp/ipykernel_802654/2145738865.py:8: DtypeWarning: Columns (7) have mixed types. Specify dtype option on import or set low_memory=False.\n",
      "  df = pd.read_csv(chemin_fichier, delimiter=';')\n"
     ]
    }
   ],
   "source": [
    "import pandas as pd\n",
    "import os\n",
    "\n",
    "chemin = \"/home/sturny/stageLGM/TranscriptomeAtlas/benchmarks/data/1_input/raw\"  \n",
    "colonnes= ['ENSEMBL', 'Human_Control_S1', 'Human_Control_S2', 'Human_Control_S3', 'Human_Control_S4', 'Hyalocytes_S1', 'Hyalocytes_S2', 'Hyalocytes_S3', 'Hyalocytes_S4', 'Hyalocytes_S5', 'Hyalocytes_S6', 'Hyalocytes_S7', 'Hyalocytes_S8', 'Hyalocytes_S9', \"Normal_conjunctiva_S1\",\"Normal_conjunctiva_S2\",\"Normal_conjunctiva_S3\",\"Normal_conjunctiva_S4\",\"Normal_conjunctiva_S5\",\"Normal_conjunctiva_S6\",\"Normal_conjunctiva_S7\",\"Normal_conjunctiva_S8\", \"periphery_S1\",\"periphery_S2\",\"periphery_S3\",\"central_S1\",\"central_S2\",\"central_S3\", \"S1\",\"S2\",\"S3\",\"S4\",\"S5\",\"S6\",\"S7\",\"S8\", \"ILM_S1\",\"ILM_S2\",\"ILM_S3\",\"ILM_S4\",\"ILM_S5\",\"ILM_S6\",\"ILM_S7\", \"HY_P1\",\"HY_P2\",\"HY_P4\",\"HY_P5\",\"HY_P6\", \"Microglia P1\",\"Microglia P3\",\"Microglia P4\",\"Microglia P5\",\"Microglia P6\",\"Control_S1\",\"Control_S2\",\"Control_S3\",\"Control_S4\",\"Control_S5\",\"Control_S6\",\"Control_S7\"]\n",
    "\n",
    "for i in os.listdir(chemin): \n",
    "    chemin_fichier=os.path.join(chemin,i)\n",
    "    try:\n",
    "        df = pd.read_csv(chemin_fichier, delimiter=';')\n",
    "    except:\n",
    "        df = pd.read_csv(chemin_fichier, delimiter=',')\n",
    "    presente = df.columns.intersection(colonnes)\n",
    "    df[presente].to_csv(chemin_fichier.replace('.csv', '_tidy.csv'))"
   ]
  },
  {
   "cell_type": "code",
   "execution_count": null,
   "id": "b9815ed6",
   "metadata": {},
   "outputs": [],
   "source": [
    "#garder les bonnes colonnes\n",
    "import pandas as pd\n",
    "import os\n",
    "\n",
    "pd.read_csv(\"/home/sturny/stageLGM/projet1/GEO/csvtotal/GSE159357_data_retina_GEO.csv\")[[\"ENSEMBL\",\"periphery_S1\",\"periphery_S2\",\"periphery_S3\",\"central_S1\",\"central_S2\",\"central_S3\"]].to_csv(\"/home/sturny/stageLGM/projet1/GEO/csvtotal/GSE159357_data_retina_GEO_tidy.csv\", index=False)"
   ]
  },
  {
   "cell_type": "code",
   "execution_count": 1,
   "id": "4927d0a7",
   "metadata": {},
   "outputs": [],
   "source": [
    "#supprimer  les \"\" et la premeire colonne\n",
    "import pandas as pd\n",
    "\n",
    "def nettoyer(fichier_entree, fichier_sortie):\n",
    "    df = pd.read_csv(fichier_entree)\n",
    "    df = df.iloc[:, 1:]\n",
    "    df.to_csv(fichier_sortie, index=False)\n",
    "nettoyer('/home/sturny/stageLGM/TranscriptomeAtlas/benchmarks/data/output/data/GSE147657_tidy.csv', '//home/sturny/stageLGM/TranscriptomeAtlas/benchmarks/data/output/data/GSE147657_tidy_correct.csv')\n"
   ]
  },
  {
   "cell_type": "code",
   "execution_count": null,
   "id": "a5cfad3b",
   "metadata": {},
   "outputs": [],
   "source": [
    "#changer les , en . dans les décimaux \n",
    "import csv\n",
    "\n",
    "def corriger_csv(input_file, output_file):\n",
    "    with open(input_file, newline='', encoding='utf-8') as f_in, \\\n",
    "         open(output_file, 'w', newline='', encoding='utf-8') as f_out:\n",
    "\n",
    "        reader = csv.reader(f_in, delimiter=',')\n",
    "        writer = csv.writer(f_out, delimiter=',')\n",
    "\n",
    "        for row in reader:\n",
    "            nouvelle_ligne = []\n",
    "            for val in row:\n",
    "                if val.count(',') == 1 and all(part.isdigit() for part in val.split(',')):\n",
    "                    val = val.replace(',', '.')\n",
    "                nouvelle_ligne.append(val)\n",
    "            writer.writerow(nouvelle_ligne)\n",
    "\n",
    "\n",
    "corriger_csv('/home/sturny/stageLGM/TranscriptomeAtlas/benchmarks/data/output/data/GSE148387_tidy_correct.csv', '/home/sturny/stageLGM/TranscriptomeAtlas/benchmarks/data/output/data/GSE148387_tidy_correct_utilisable.csv')\n"
   ]
  }
 ],
 "metadata": {
  "kernelspec": {
   "display_name": "TranscriptomeAtlas",
   "language": "python",
   "name": "python3"
  },
  "language_info": {
   "codemirror_mode": {
    "name": "ipython",
    "version": 3
   },
   "file_extension": ".py",
   "mimetype": "text/x-python",
   "name": "python",
   "nbconvert_exporter": "python",
   "pygments_lexer": "ipython3",
   "version": "3.5.6"
  }
 },
 "nbformat": 4,
 "nbformat_minor": 5
}
